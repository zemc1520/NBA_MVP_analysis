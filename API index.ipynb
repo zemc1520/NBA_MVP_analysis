{
 "cells": [
  {
   "cell_type": "code",
   "execution_count": 62,
   "metadata": {},
   "outputs": [],
   "source": [
    "import requests\n",
    "multID = '/api/v1/season_averages?season=2018&player_ids[]=237&player_ids[]=320'\n",
    "ballDontLiePlayers = requests.get(\"https://www.balldontlie.io/api/v1/players?search=iman shumpert\").json()\n",
    "ballDontLieStats = requests.get(\"https://www.balldontlie.io/api/v1/stats\").json()\n",
    "ballDontLieSAverage = requests.get('https://www.balldontlie.io'+multID).json()\n"
   ]
  },
  {
   "cell_type": "code",
   "execution_count": 102,
   "metadata": {},
   "outputs": [
    {
     "data": {
      "text/plain": [
       "[{'games_played': 55,\n",
       "  'player_id': 237,\n",
       "  'season': 2018,\n",
       "  'min': '35:13',\n",
       "  'fgm': 10.15,\n",
       "  'fga': 19.91,\n",
       "  'fg3m': 2.02,\n",
       "  'fg3a': 5.95,\n",
       "  'ftm': 5.05,\n",
       "  'fta': 7.6,\n",
       "  'oreb': 1.02,\n",
       "  'dreb': 7.42,\n",
       "  'reb': 8.44,\n",
       "  'ast': 8.25,\n",
       "  'stl': 1.31,\n",
       "  'blk': 0.6,\n",
       "  'turnover': 3.58,\n",
       "  'pf': 1.71,\n",
       "  'pts': 27.36,\n",
       "  'fg_pct': 0.51,\n",
       "  'fg3_pct': 0.339,\n",
       "  'ft_pct': 0.665},\n",
       " {'games_played': 22,\n",
       "  'player_id': 320,\n",
       "  'season': 2018,\n",
       "  'min': '12:11',\n",
       "  'fgm': 1.55,\n",
       "  'fga': 3.95,\n",
       "  'fg3m': 0.64,\n",
       "  'fg3a': 2.0,\n",
       "  'ftm': 0.23,\n",
       "  'fta': 0.32,\n",
       "  'oreb': 0.36,\n",
       "  'dreb': 1.18,\n",
       "  'reb': 1.55,\n",
       "  'ast': 0.82,\n",
       "  'stl': 0.36,\n",
       "  'blk': 0.36,\n",
       "  'turnover': 0.27,\n",
       "  'pf': 1.32,\n",
       "  'pts': 3.95,\n",
       "  'fg_pct': 0.391,\n",
       "  'fg3_pct': 0.318,\n",
       "  'ft_pct': 0.714}]"
      ]
     },
     "execution_count": 102,
     "metadata": {},
     "output_type": "execute_result"
    }
   ],
   "source": [
    "BDLplayers = ballDontLiePlayers['data']\n",
    "BDLstats = ballDontLieStats['data']\n",
    "BDLstatsAVG = ballDontLieSAverage['data']\n",
    "BDLstatsAVG\n"
   ]
  },
  {
   "cell_type": "code",
   "execution_count": 10,
   "metadata": {},
   "outputs": [
    {
     "name": "stdout",
     "output_type": "stream",
     "text": [
      "55\n",
      "22\n"
     ]
    }
   ],
   "source": [
    "for i in BDLstatsAVG:\n",
    "    print(i['games_played'])\n"
   ]
  },
  {
   "cell_type": "code",
   "execution_count": 20,
   "metadata": {},
   "outputs": [
    {
     "name": "stdout",
     "output_type": "stream",
     "text": [
      "415\n"
     ]
    }
   ],
   "source": [
    "for i in BDLstats:\n",
    "    if i['player']['last_name'] == 'Shumpert':\n",
    "        print(i['player']['id'])\n",
    "        \n",
    "        \n",
    "        #if l['last_name'] == Shumpert:\n",
    "           # print(l['last_name'])"
   ]
  },
  {
   "cell_type": "code",
   "execution_count": 118,
   "metadata": {},
   "outputs": [],
   "source": [
    "def getStatsInput(firstName, lastName, year, uniqueID):\n",
    "    import requests\n",
    "    statList = []\n",
    "    name = requests.get(\"https://www.balldontlie.io/api/v1/players?search=\"+str(uniqueID)).json()\n",
    "    \n",
    "    for i in name['data']:\n",
    "        if i['last_name'] == str(lastName) and i['first_name'] == str(firstName):\n",
    "            idNum = i['id']\n",
    "            playerAVG = requests.get('https://www.balldontlie.io/api/v1/season_averages?season='+str(year)+'&player_ids[]='+str(idNum)).json()\n",
    "            for stats in playerAVG['data']:\n",
    "                statList.extend((stats['pts'],stats['fg_pct'], stats['fg3_pct'], stats['ft_pct'],stats['reb'],\n",
    "                stats['ast'], stats['stl'],stats['blk']))\n",
    "                \n",
    "                #print(i['last_name']+', '+i['first_name'])\n",
    "                return  i['first_name'], i['last_name'], statList\n",
    "                \n",
    "               \n",
    "    "
   ]
  },
  {
   "cell_type": "code",
   "execution_count": 119,
   "metadata": {},
   "outputs": [],
   "source": [
    "#unique name identifier EX: to get LeBron James user must input LeBron instead of James because less people have the name Lebron than James\n",
    "#(looks for matches in the first or last name for the unique name identifier)      \n",
    "        #first name, last name, season, unique name identifier\n",
    "x = getStatsInput('LeBron','James','2016','LeBron')"
   ]
  },
  {
   "cell_type": "code",
   "execution_count": 126,
   "metadata": {},
   "outputs": [
    {
     "data": {
      "text/plain": [
       "('LeBron', 'James', [26.41, 0.548, 0.363, 0.674, 8.64, 8.73, 1.24, 0.59, 4.09])"
      ]
     },
     "execution_count": 126,
     "metadata": {},
     "output_type": "execute_result"
    }
   ],
   "source": [
    "#the players name is the start and title of the lsit\n",
    "#list order per game average: points, field goal percentage (fg_pct), 3 piont percentage (fg3_pct), freethrow percentage (ft_pct), rebounds\n",
    "#assists, steals, blocks, turnovers. \n",
    "\n",
    "x"
   ]
  },
  {
   "cell_type": "code",
   "execution_count": null,
   "metadata": {},
   "outputs": [],
   "source": []
  }
 ],
 "metadata": {
  "kernelspec": {
   "display_name": "Python 3",
   "language": "python",
   "name": "python3"
  },
  "language_info": {
   "codemirror_mode": {
    "name": "ipython",
    "version": 3
   },
   "file_extension": ".py",
   "mimetype": "text/x-python",
   "name": "python",
   "nbconvert_exporter": "python",
   "pygments_lexer": "ipython3",
   "version": "3.7.4"
  }
 },
 "nbformat": 4,
 "nbformat_minor": 2
}
