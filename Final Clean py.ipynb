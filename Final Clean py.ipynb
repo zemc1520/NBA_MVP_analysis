{
 "cells": [
  {
   "cell_type": "code",
   "execution_count": 1,
   "metadata": {},
   "outputs": [],
   "source": [
    "import numpy as np\n",
    "import pandas as pd\n",
    "import seaborn as sb\n",
    "import matplotlib.pyplot as plt\n",
    "from IPython.display import Image\n",
    "%matplotlib inline"
   ]
  },
  {
   "cell_type": "code",
   "execution_count": null,
   "metadata": {},
   "outputs": [],
   "source": [
    "#csv files"
   ]
  },
  {
   "cell_type": "code",
   "execution_count": 2,
   "metadata": {},
   "outputs": [],
   "source": [
    "regSeasonMVP = pd.read_csv('MVP.csv')\n",
    "ROY = pd.read_csv('ROY.csv')"
   ]
  },
  {
   "cell_type": "code",
   "execution_count": 3,
   "metadata": {},
   "outputs": [
    {
     "data": {
      "text/html": [
       "<div>\n",
       "<style scoped>\n",
       "    .dataframe tbody tr th:only-of-type {\n",
       "        vertical-align: middle;\n",
       "    }\n",
       "\n",
       "    .dataframe tbody tr th {\n",
       "        vertical-align: top;\n",
       "    }\n",
       "\n",
       "    .dataframe thead th {\n",
       "        text-align: right;\n",
       "    }\n",
       "</style>\n",
       "<table border=\"1\" class=\"dataframe\">\n",
       "  <thead>\n",
       "    <tr style=\"text-align: right;\">\n",
       "      <th></th>\n",
       "      <th>Season</th>\n",
       "      <th>Lg</th>\n",
       "      <th>Player</th>\n",
       "      <th>Voting</th>\n",
       "      <th>Age</th>\n",
       "      <th>Tm</th>\n",
       "      <th>G</th>\n",
       "      <th>MP</th>\n",
       "      <th>PTS</th>\n",
       "      <th>TRB</th>\n",
       "      <th>AST</th>\n",
       "      <th>STL</th>\n",
       "      <th>BLK</th>\n",
       "      <th>FG%</th>\n",
       "      <th>3P%</th>\n",
       "      <th>FT%</th>\n",
       "      <th>WS</th>\n",
       "      <th>WS/48</th>\n",
       "    </tr>\n",
       "  </thead>\n",
       "  <tbody>\n",
       "    <tr>\n",
       "      <td>0</td>\n",
       "      <td>2019-20</td>\n",
       "      <td>NBA</td>\n",
       "      <td>Giannis Antetokounmpo\\antetgi01</td>\n",
       "      <td>(V)</td>\n",
       "      <td>25</td>\n",
       "      <td>MIL</td>\n",
       "      <td>63</td>\n",
       "      <td>30.4</td>\n",
       "      <td>29.5</td>\n",
       "      <td>13.6</td>\n",
       "      <td>5.6</td>\n",
       "      <td>1.0</td>\n",
       "      <td>1.0</td>\n",
       "      <td>0.553</td>\n",
       "      <td>0.304</td>\n",
       "      <td>0.633</td>\n",
       "      <td>11.1</td>\n",
       "      <td>0.279</td>\n",
       "    </tr>\n",
       "    <tr>\n",
       "      <td>1</td>\n",
       "      <td>2018-19</td>\n",
       "      <td>NBA</td>\n",
       "      <td>Giannis Antetokounmpo\\antetgi01</td>\n",
       "      <td>(V)</td>\n",
       "      <td>24</td>\n",
       "      <td>MIL</td>\n",
       "      <td>72</td>\n",
       "      <td>32.8</td>\n",
       "      <td>27.7</td>\n",
       "      <td>12.5</td>\n",
       "      <td>5.9</td>\n",
       "      <td>1.3</td>\n",
       "      <td>1.5</td>\n",
       "      <td>0.578</td>\n",
       "      <td>0.256</td>\n",
       "      <td>0.729</td>\n",
       "      <td>14.4</td>\n",
       "      <td>0.292</td>\n",
       "    </tr>\n",
       "    <tr>\n",
       "      <td>2</td>\n",
       "      <td>2017-18</td>\n",
       "      <td>NBA</td>\n",
       "      <td>James Harden\\hardeja01</td>\n",
       "      <td>(V)</td>\n",
       "      <td>28</td>\n",
       "      <td>HOU</td>\n",
       "      <td>72</td>\n",
       "      <td>35.4</td>\n",
       "      <td>30.4</td>\n",
       "      <td>5.4</td>\n",
       "      <td>8.8</td>\n",
       "      <td>1.8</td>\n",
       "      <td>0.7</td>\n",
       "      <td>0.449</td>\n",
       "      <td>0.367</td>\n",
       "      <td>0.858</td>\n",
       "      <td>15.4</td>\n",
       "      <td>0.289</td>\n",
       "    </tr>\n",
       "    <tr>\n",
       "      <td>3</td>\n",
       "      <td>2016-17</td>\n",
       "      <td>NBA</td>\n",
       "      <td>Russell Westbrook\\westbru01</td>\n",
       "      <td>(V)</td>\n",
       "      <td>28</td>\n",
       "      <td>OKC</td>\n",
       "      <td>81</td>\n",
       "      <td>34.6</td>\n",
       "      <td>31.6</td>\n",
       "      <td>10.7</td>\n",
       "      <td>10.4</td>\n",
       "      <td>1.6</td>\n",
       "      <td>0.4</td>\n",
       "      <td>0.425</td>\n",
       "      <td>0.343</td>\n",
       "      <td>0.845</td>\n",
       "      <td>13.1</td>\n",
       "      <td>0.224</td>\n",
       "    </tr>\n",
       "    <tr>\n",
       "      <td>4</td>\n",
       "      <td>2015-16</td>\n",
       "      <td>NBA</td>\n",
       "      <td>Stephen Curry\\curryst01</td>\n",
       "      <td>(V)</td>\n",
       "      <td>27</td>\n",
       "      <td>GSW</td>\n",
       "      <td>79</td>\n",
       "      <td>34.2</td>\n",
       "      <td>30.1</td>\n",
       "      <td>5.4</td>\n",
       "      <td>6.7</td>\n",
       "      <td>2.1</td>\n",
       "      <td>0.2</td>\n",
       "      <td>0.504</td>\n",
       "      <td>0.454</td>\n",
       "      <td>0.908</td>\n",
       "      <td>17.9</td>\n",
       "      <td>0.318</td>\n",
       "    </tr>\n",
       "  </tbody>\n",
       "</table>\n",
       "</div>"
      ],
      "text/plain": [
       "    Season   Lg                           Player Voting  Age   Tm   G    MP  \\\n",
       "0  2019-20  NBA  Giannis Antetokounmpo\\antetgi01    (V)   25  MIL  63  30.4   \n",
       "1  2018-19  NBA  Giannis Antetokounmpo\\antetgi01    (V)   24  MIL  72  32.8   \n",
       "2  2017-18  NBA           James Harden\\hardeja01    (V)   28  HOU  72  35.4   \n",
       "3  2016-17  NBA      Russell Westbrook\\westbru01    (V)   28  OKC  81  34.6   \n",
       "4  2015-16  NBA          Stephen Curry\\curryst01    (V)   27  GSW  79  34.2   \n",
       "\n",
       "    PTS   TRB   AST  STL  BLK    FG%    3P%    FT%    WS  WS/48  \n",
       "0  29.5  13.6   5.6  1.0  1.0  0.553  0.304  0.633  11.1  0.279  \n",
       "1  27.7  12.5   5.9  1.3  1.5  0.578  0.256  0.729  14.4  0.292  \n",
       "2  30.4   5.4   8.8  1.8  0.7  0.449  0.367  0.858  15.4  0.289  \n",
       "3  31.6  10.7  10.4  1.6  0.4  0.425  0.343  0.845  13.1  0.224  \n",
       "4  30.1   5.4   6.7  2.1  0.2  0.504  0.454  0.908  17.9  0.318  "
      ]
     },
     "execution_count": 3,
     "metadata": {},
     "output_type": "execute_result"
    }
   ],
   "source": [
    "#csv of all MVP winners and their stats for that year\n",
    "#dimensions: 65 rows × 18 columns\n",
    "regSeasonMVP.head()"
   ]
  },
  {
   "cell_type": "code",
   "execution_count": 4,
   "metadata": {},
   "outputs": [
    {
     "data": {
      "text/html": [
       "<div>\n",
       "<style scoped>\n",
       "    .dataframe tbody tr th:only-of-type {\n",
       "        vertical-align: middle;\n",
       "    }\n",
       "\n",
       "    .dataframe tbody tr th {\n",
       "        vertical-align: top;\n",
       "    }\n",
       "\n",
       "    .dataframe thead th {\n",
       "        text-align: right;\n",
       "    }\n",
       "</style>\n",
       "<table border=\"1\" class=\"dataframe\">\n",
       "  <thead>\n",
       "    <tr style=\"text-align: right;\">\n",
       "      <th></th>\n",
       "      <th>Season</th>\n",
       "      <th>Lg</th>\n",
       "      <th>Player</th>\n",
       "      <th>Voting</th>\n",
       "      <th>Age</th>\n",
       "      <th>Tm</th>\n",
       "      <th>G</th>\n",
       "      <th>MP</th>\n",
       "      <th>PTS</th>\n",
       "      <th>TRB</th>\n",
       "      <th>AST</th>\n",
       "      <th>STL</th>\n",
       "      <th>BLK</th>\n",
       "      <th>FG%</th>\n",
       "      <th>3P%</th>\n",
       "      <th>FT%</th>\n",
       "      <th>WS</th>\n",
       "      <th>WS/48</th>\n",
       "    </tr>\n",
       "  </thead>\n",
       "  <tbody>\n",
       "    <tr>\n",
       "      <td>0</td>\n",
       "      <td>2019-20</td>\n",
       "      <td>NBA</td>\n",
       "      <td>Ja Morant\\moranja01</td>\n",
       "      <td>(V)</td>\n",
       "      <td>20</td>\n",
       "      <td>MEM</td>\n",
       "      <td>67</td>\n",
       "      <td>31.0</td>\n",
       "      <td>17.8</td>\n",
       "      <td>3.9</td>\n",
       "      <td>7.3</td>\n",
       "      <td>0.9</td>\n",
       "      <td>0.3</td>\n",
       "      <td>0.477</td>\n",
       "      <td>0.335</td>\n",
       "      <td>0.776</td>\n",
       "      <td>3.8</td>\n",
       "      <td>0.088</td>\n",
       "    </tr>\n",
       "    <tr>\n",
       "      <td>1</td>\n",
       "      <td>2018-19</td>\n",
       "      <td>NBA</td>\n",
       "      <td>Luka Dončić\\doncilu01</td>\n",
       "      <td>(V)</td>\n",
       "      <td>19</td>\n",
       "      <td>DAL</td>\n",
       "      <td>72</td>\n",
       "      <td>32.2</td>\n",
       "      <td>21.2</td>\n",
       "      <td>7.8</td>\n",
       "      <td>6.0</td>\n",
       "      <td>1.1</td>\n",
       "      <td>0.3</td>\n",
       "      <td>0.427</td>\n",
       "      <td>0.327</td>\n",
       "      <td>0.713</td>\n",
       "      <td>4.9</td>\n",
       "      <td>0.101</td>\n",
       "    </tr>\n",
       "    <tr>\n",
       "      <td>2</td>\n",
       "      <td>2017-18</td>\n",
       "      <td>NBA</td>\n",
       "      <td>Ben Simmons\\simmobe01</td>\n",
       "      <td>(V)</td>\n",
       "      <td>21</td>\n",
       "      <td>PHI</td>\n",
       "      <td>81</td>\n",
       "      <td>33.7</td>\n",
       "      <td>15.8</td>\n",
       "      <td>8.1</td>\n",
       "      <td>8.2</td>\n",
       "      <td>1.7</td>\n",
       "      <td>0.9</td>\n",
       "      <td>0.545</td>\n",
       "      <td>0.000</td>\n",
       "      <td>0.560</td>\n",
       "      <td>9.2</td>\n",
       "      <td>0.162</td>\n",
       "    </tr>\n",
       "    <tr>\n",
       "      <td>3</td>\n",
       "      <td>2016-17</td>\n",
       "      <td>NBA</td>\n",
       "      <td>Malcolm Brogdon\\brogdma01</td>\n",
       "      <td>(V)</td>\n",
       "      <td>24</td>\n",
       "      <td>MIL</td>\n",
       "      <td>75</td>\n",
       "      <td>26.4</td>\n",
       "      <td>10.2</td>\n",
       "      <td>2.8</td>\n",
       "      <td>4.2</td>\n",
       "      <td>1.1</td>\n",
       "      <td>0.2</td>\n",
       "      <td>0.457</td>\n",
       "      <td>0.404</td>\n",
       "      <td>0.865</td>\n",
       "      <td>4.1</td>\n",
       "      <td>0.100</td>\n",
       "    </tr>\n",
       "    <tr>\n",
       "      <td>4</td>\n",
       "      <td>2015-16</td>\n",
       "      <td>NBA</td>\n",
       "      <td>Karl-Anthony Towns\\townska01</td>\n",
       "      <td>(V)</td>\n",
       "      <td>20</td>\n",
       "      <td>MIN</td>\n",
       "      <td>82</td>\n",
       "      <td>32.0</td>\n",
       "      <td>18.3</td>\n",
       "      <td>10.5</td>\n",
       "      <td>2.0</td>\n",
       "      <td>0.7</td>\n",
       "      <td>1.7</td>\n",
       "      <td>0.542</td>\n",
       "      <td>0.341</td>\n",
       "      <td>0.811</td>\n",
       "      <td>8.3</td>\n",
       "      <td>0.151</td>\n",
       "    </tr>\n",
       "  </tbody>\n",
       "</table>\n",
       "</div>"
      ],
      "text/plain": [
       "    Season   Lg                        Player Voting  Age   Tm   G    MP  \\\n",
       "0  2019-20  NBA           Ja Morant\\moranja01    (V)   20  MEM  67  31.0   \n",
       "1  2018-19  NBA         Luka Dončić\\doncilu01    (V)   19  DAL  72  32.2   \n",
       "2  2017-18  NBA         Ben Simmons\\simmobe01    (V)   21  PHI  81  33.7   \n",
       "3  2016-17  NBA     Malcolm Brogdon\\brogdma01    (V)   24  MIL  75  26.4   \n",
       "4  2015-16  NBA  Karl-Anthony Towns\\townska01    (V)   20  MIN  82  32.0   \n",
       "\n",
       "    PTS   TRB  AST  STL  BLK    FG%    3P%    FT%   WS  WS/48  \n",
       "0  17.8   3.9  7.3  0.9  0.3  0.477  0.335  0.776  3.8  0.088  \n",
       "1  21.2   7.8  6.0  1.1  0.3  0.427  0.327  0.713  4.9  0.101  \n",
       "2  15.8   8.1  8.2  1.7  0.9  0.545  0.000  0.560  9.2  0.162  \n",
       "3  10.2   2.8  4.2  1.1  0.2  0.457  0.404  0.865  4.1  0.100  \n",
       "4  18.3  10.5  2.0  0.7  1.7  0.542  0.341  0.811  8.3  0.151  "
      ]
     },
     "execution_count": 4,
     "metadata": {},
     "output_type": "execute_result"
    }
   ],
   "source": [
    "#csv of all the rookie of the year winners \n",
    "#dimensions: 77 rows × 18 columns\n",
    "ROY.head()"
   ]
  },
  {
   "cell_type": "code",
   "execution_count": 25,
   "metadata": {},
   "outputs": [],
   "source": [
    "#getting the average of all  declared columns in my project plan..\n",
    "#pts,reb,ast,stl,blk, fg%, 3p%, and ft%, plus the min and max for each.\n",
    "\n",
    "#.loc will locate all the specified columns and all rows and then average/.mean(),.min(),.max() the columns.\n",
    "\n",
    "allMVPAverages = regSeasonMVP.loc[::, ['PTS','TRB','AST','STL','BLK','FG%','3P%','FT%']].mean() \n",
    "allMVPmin = regSeasonMVP.loc[::, ['PTS','TRB','AST','STL','BLK','FG%','3P%','FT%']].min()\n",
    "allMVPmax = regSeasonMVP.loc[::, ['PTS','TRB','AST','STL','BLK','FG%','3P%','FT%']].max()"
   ]
  },
  {
   "cell_type": "code",
   "execution_count": 29,
   "metadata": {},
   "outputs": [],
   "source": [
    "#for our box plot of better visualizing the data above\n",
    "stats_df = regSeasonMVP.drop(['Season', 'Lg', 'Voting','Age','Tm','G','MP','WS','WS/48'], axis=1)\n"
   ]
  },
  {
   "cell_type": "code",
   "execution_count": 26,
   "metadata": {},
   "outputs": [
    {
     "data": {
      "text/plain": [
       "PTS    26.064615\n",
       "TRB    12.209231\n",
       "AST     5.560000\n",
       "STL     1.527660\n",
       "BLK     1.376596\n",
       "FG%     0.505692\n",
       "3P%     0.281902\n",
       "FT%     0.753462\n",
       "dtype: float64"
      ]
     },
     "execution_count": 26,
     "metadata": {},
     "output_type": "execute_result"
    }
   ],
   "source": [
    "allMVPAverages"
   ]
  },
  {
   "cell_type": "code",
   "execution_count": 7,
   "metadata": {},
   "outputs": [
    {
     "data": {
      "text/plain": [
       "PTS    13.800\n",
       "TRB     3.300\n",
       "AST     1.300\n",
       "STL     0.500\n",
       "BLK     0.100\n",
       "FG%     0.378\n",
       "3P%     0.000\n",
       "FT%     0.380\n",
       "dtype: float64"
      ]
     },
     "execution_count": 7,
     "metadata": {},
     "output_type": "execute_result"
    }
   ],
   "source": [
    "allMVPmin"
   ]
  },
  {
   "cell_type": "code",
   "execution_count": 8,
   "metadata": {},
   "outputs": [
    {
     "data": {
      "text/plain": [
       "PTS    37.600\n",
       "TRB    27.000\n",
       "AST    12.800\n",
       "STL     3.200\n",
       "BLK     4.100\n",
       "FG%     0.683\n",
       "3P%     0.454\n",
       "FT%     0.921\n",
       "dtype: float64"
      ]
     },
     "execution_count": 8,
     "metadata": {},
     "output_type": "execute_result"
    }
   ],
   "source": [
    "allMVPmax"
   ]
  },
  {
   "cell_type": "code",
   "execution_count": 35,
   "metadata": {},
   "outputs": [
    {
     "data": {
      "text/plain": [
       "<matplotlib.axes._subplots.AxesSubplot at 0x7fa0d1465190>"
      ]
     },
     "execution_count": 35,
     "metadata": {},
     "output_type": "execute_result"
    },
    {
     "data": {
      "image/png": "[encoded data removed]",
      "text/plain": [
       "<Figure size 432x288 with 1 Axes>"
      ]
     },
     "metadata": {},
     "output_type": "display_data"
    }
   ],
   "source": [
    "#visualized data\n",
    "#boxplot\n",
    "\n",
    "sb.boxplot(data=stats_df)\n"
   ]
  },
  {
   "cell_type": "code",
   "execution_count": 9,
   "metadata": {},
   "outputs": [
    {
     "name": "stdout",
     "output_type": "stream",
     "text": [
      "There are 7 players with more than one MVP award and ROY and 9 players who one just one of each award\n"
     ]
    },
    {
     "data": {
      "text/plain": [
       "{'Derrick Rose\\\\rosede01': 1,\n",
       " 'Kevin Durant\\\\duranke01': 1,\n",
       " 'LeBron James\\\\jamesle01': 4,\n",
       " 'Tim Duncan\\\\duncati01': 2,\n",
       " 'Allen Iverson\\\\iversal01': 1,\n",
       " \"Shaquille O'Neal\\\\onealsh01\": 1,\n",
       " 'David Robinson\\\\robinda01': 1,\n",
       " 'Michael Jordan\\\\jordami01': 5,\n",
       " 'Larry Bird\\\\birdla01': 3,\n",
       " 'Bob McAdoo\\\\mcadobo01': 1,\n",
       " 'Kareem Abdul-Jabbar\\\\abdulka01': 6,\n",
       " 'Wes Unseld\\\\unselwe01': 1,\n",
       " 'Willis Reed\\\\reedwi01': 1,\n",
       " 'Oscar Robertson\\\\roberos01': 1,\n",
       " 'Wilt Chamberlain\\\\chambwi01': 4,\n",
       " 'Bob Pettit\\\\pettibo01': 2}"
      ]
     },
     "execution_count": 9,
     "metadata": {},
     "output_type": "execute_result"
    }
   ],
   "source": [
    "#how many players who were awarded the Rookie of the year (ROY) and were awarded as the regular season MVP \n",
    "def isROYanMVP(column1,column2):\n",
    "    \n",
    "    #open dictionary for matching players and the number of MVP's they have\n",
    "    numOfDuplicates = {}\n",
    "    \n",
    "    \n",
    "    #loop through each datafram\n",
    "    for col in column1['Player']:\n",
    "        for col2 in column2['Player']:\n",
    "            \n",
    "            #if there are index matches\n",
    "            if col2 in col:\n",
    "                \n",
    "                #if the player name is not in the dictionary then add it as a key and then the value is equal to\n",
    "                #the number of MVP's they have won\n",
    "                if col not in numOfDuplicates:\n",
    "                    numOfDuplicates[col] = 1\n",
    "                else:\n",
    "                    numOfDuplicates[col] +=1\n",
    "                    \n",
    "    return numOfDuplicates\n",
    " \n",
    "    \n",
    "    \n",
    "newDict =isROYanMVP(ROY,regSeasonMVP)\n",
    "#now lets get a better understanding for how many people have won 1+ MVP out of our mathcing dictionary\n",
    "\n",
    "counter = 0 \n",
    "for num in newDict.values():\n",
    "    if num >=2:\n",
    "        counter+=1\n",
    "\n",
    "oneTime = (len(newDict)-counter)\n",
    "\n",
    "print('There are '+str(counter)+' players with more than one MVP award and ROY and '+str(oneTime)+' players who one just one of each award')\n",
    "newDict"
   ]
  },
  {
   "cell_type": "code",
   "execution_count": 40,
   "metadata": {},
   "outputs": [
    {
     "data": {
      "text/plain": [
       "<BarContainer object of 16 artists>"
      ]
     },
     "execution_count": 40,
     "metadata": {},
     "output_type": "execute_result"
    },
    {
     "data": {
      "image/png": "[encoded data removed]",
      "text/plain": [
       "<Figure size 432x288 with 1 Axes>"
      ]
     },
     "metadata": {},
     "output_type": "display_data"
    }
   ],
   "source": [
    "plt.bar(newDict.keys(), newDict.values(), color='b')"
   ]
  },
  {
   "cell_type": "code",
   "execution_count": 55,
   "metadata": {},
   "outputs": [],
   "source": [
    "def getStatsInput(firstName, lastName, year, uniqueID):\n",
    "    import requests\n",
    "    statList = []\n",
    "    name = requests.get(\"https://www.balldontlie.io/api/v1/players?search=\"+str(uniqueID)).json()\n",
    "    \n",
    "    for i in name['data']:\n",
    "        if i['last_name'] == str(lastName) and i['first_name'] == str(firstName):\n",
    "            idNum = i['id']\n",
    "            playerAVG = requests.get('https://www.balldontlie.io/api/v1/season_averages?season='+str(year)+'&player_ids[]='+str(idNum)).json()\n",
    "            for stats in playerAVG['data']:\n",
    "                statList.extend((stats['pts'],stats['reb'],stats['ast'], stats['stl'],stats['blk'],\n",
    "                stats['fg_pct'], stats['fg3_pct'], stats['ft_pct']))\n",
    "                \n",
    "                #print(i['last_name']+', '+i['first_name'])\n",
    "                return  uniqueID, statList\n",
    "                "
   ]
  },
  {
   "cell_type": "code",
   "execution_count": 56,
   "metadata": {},
   "outputs": [],
   "source": [
    "#unique name identifier EX: to get LeBron James user must input LeBron instead of James because less people have the name Lebron than James\n",
    "#(looks for matches in the first or last name for the unique name identifier)      \n",
    "\n",
    "        #first name, last name, season, unique name identifier\n",
    "playerInput = getStatsInput('LeBron','James','2016','LeBron')"
   ]
  },
  {
   "cell_type": "code",
   "execution_count": 57,
   "metadata": {},
   "outputs": [
    {
     "data": {
      "text/plain": [
       "('LeBron', [26.41, 8.64, 8.73, 1.24, 0.59, 0.548, 0.363, 0.674])"
      ]
     },
     "execution_count": 57,
     "metadata": {},
     "output_type": "execute_result"
    }
   ],
   "source": [
    "#full list of stat categories identicle to the csv files\n",
    "#pts,reb,ast,stl,blk, fg%, 3p%, and ft%\n",
    "\n",
    "playerInput"
   ]
  },
  {
   "cell_type": "code",
   "execution_count": 58,
   "metadata": {},
   "outputs": [
    {
     "data": {
      "text/plain": [
       "[26.41, 8.64, 8.73, 1.24, 0.59, 0.548, 0.363, 0.674]"
      ]
     },
     "execution_count": 58,
     "metadata": {},
     "output_type": "execute_result"
    }
   ],
   "source": [
    "#you can access just the statistics by...\n",
    "\n",
    "playerInput[1]\n",
    "#its the third list index, a list within another list"
   ]
  },
  {
   "cell_type": "code",
   "execution_count": 66,
   "metadata": {},
   "outputs": [
    {
     "data": {
      "image/png": "[encoded data removed]",
      "text/plain": [
       "<Figure size 432x288 with 1 Axes>"
      ]
     },
     "metadata": {},
     "output_type": "display_data"
    }
   ],
   "source": [
    "#now lets visualize all our data\n",
    "#specifically how does your chosen player compare to mvp statistical averages\n",
    "\n",
    "plt.plot(playerInput[1], label='player chosen')\n",
    "plt.plot(allMVPAverages, label='MVP averages')\n",
    "plt.xlabel(\"Averages (stats)\")\n",
    "plt.ylabel(\"Player\")\n",
    "plt.legend()\n",
    "plt.show()\n",
    "#plt.bar(playerInput[2],)"
   ]
  },
  {
   "cell_type": "code",
   "execution_count": null,
   "metadata": {},
   "outputs": [],
   "source": []
  }
 ],
 "metadata": {
  "kernelspec": {
   "display_name": "Python 3",
   "language": "python",
   "name": "python3"
  },
  "language_info": {
   "codemirror_mode": {
    "name": "ipython",
    "version": 3
   },
   "file_extension": ".py",
   "mimetype": "text/x-python",
   "name": "python",
   "nbconvert_exporter": "python",
   "pygments_lexer": "ipython3",
   "version": "3.7.4"
  }
 },
 "nbformat": 4,
 "nbformat_minor": 2
}
