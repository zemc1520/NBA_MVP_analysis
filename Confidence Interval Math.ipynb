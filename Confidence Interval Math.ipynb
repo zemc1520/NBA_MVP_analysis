{
 "cells": [
  {
   "cell_type": "code",
   "execution_count": 4,
   "metadata": {},
   "outputs": [
    {
     "name": "stdout",
     "output_type": "stream",
     "text": [
      "variance: 0.020586726141880982\n",
      "sd: 0.1434807518166844\n"
     ]
    }
   ],
   "source": [
    "import math\n",
    "#xBAR is the average that a player is an MVP 65/3092\n",
    "#65 is the num MVP's (repeating)\n",
    "#3092 is the num players in league history (non-repeating)\n",
    "\n",
    "\n",
    "xBAR = .0210219\n",
    "\n",
    "#s2 will give me the variance of the population\n",
    "\n",
    "s2 = (65*((1-xBAR)**2)+(3027*((xBAR)**2)))/(3092-1)\n",
    "print(\"variance:\", s2)\n",
    "\n",
    "#s is the standard deviation of my population\n",
    "\n",
    "s= math.sqrt(s2)\n",
    "print(\"sd:\", s)"
   ]
  },
  {
   "cell_type": "code",
   "execution_count": 6,
   "metadata": {},
   "outputs": [
    {
     "data": {
      "text/plain": [
       "0.002607878975819425"
      ]
     },
     "execution_count": 6,
     "metadata": {},
     "output_type": "execute_result"
    }
   ],
   "source": [
    "#estimated sample distribution of my population\n",
    "\n",
    "est = s/math.sqrt(3027)\n",
    "est"
   ]
  },
  {
   "cell_type": "code",
   "execution_count": 8,
   "metadata": {},
   "outputs": [
    {
     "data": {
      "text/plain": [
       "0.0067283277576141165"
      ]
     },
     "execution_count": 8,
     "metadata": {},
     "output_type": "execute_result"
    }
   ],
   "source": [
    "#the +- part of the confidence interval\n",
    "#2.58 is the zscore that we are 99% confident\n",
    "\n",
    "popProportion = est*2.58\n",
    "popProportion"
   ]
  },
  {
   "cell_type": "code",
   "execution_count": 9,
   "metadata": {},
   "outputs": [
    {
     "name": "stdout",
     "output_type": "stream",
     "text": [
      "0.014293572242385883 0.027750227757614116\n"
     ]
    }
   ],
   "source": [
    "#we are 99% confident that if a player is randomly selected from the population of all NBA players (throughout history)\n",
    "# it is between a 0.143% < MVP > 0.278% chance they are an MVP\n",
    "#this shows how unlikely it is for a player to become MVP to begin with\n",
    "upper = xBAR+popProportion\n",
    "lower = xBAR-popProportion\n",
    "print(lower,upper)"
   ]
  },
  {
   "cell_type": "code",
   "execution_count": null,
   "metadata": {},
   "outputs": [],
   "source": []
  }
 ],
 "metadata": {
  "kernelspec": {
   "display_name": "Python 3",
   "language": "python",
   "name": "python3"
  },
  "language_info": {
   "codemirror_mode": {
    "name": "ipython",
    "version": 3
   },
   "file_extension": ".py",
   "mimetype": "text/x-python",
   "name": "python",
   "nbconvert_exporter": "python",
   "pygments_lexer": "ipython3",
   "version": "3.7.4"
  }
 },
 "nbformat": 4,
 "nbformat_minor": 2
}
